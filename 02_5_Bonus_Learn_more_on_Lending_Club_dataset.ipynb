{
  "nbformat": 4,
  "nbformat_minor": 0,
  "metadata": {
    "kernelspec": {
      "display_name": "Python 3",
      "language": "python",
      "name": "python3"
    },
    "language_info": {
      "codemirror_mode": {
        "name": "ipython",
        "version": 3
      },
      "file_extension": ".py",
      "mimetype": "text/x-python",
      "name": "python",
      "nbconvert_exporter": "python",
      "pygments_lexer": "ipython3",
      "version": "3.6.1"
    },
    "toc": {
      "nav_menu": {},
      "number_sections": true,
      "sideBar": true,
      "skip_h1_title": false,
      "toc_cell": false,
      "toc_position": {},
      "toc_section_display": "block",
      "toc_window_display": false
    },
    "colab": {
      "name": "02.5_Bonus_Learn_more_on_Lending_Club_dataset.ipynb",
      "provenance": [],
      "include_colab_link": true
    }
  },
  "cells": [
    {
      "cell_type": "markdown",
      "metadata": {
        "id": "view-in-github",
        "colab_type": "text"
      },
      "source": [
        "<a href=\"https://colab.research.google.com/github/balugiduturi/ML-Feature-Engineering/blob/master/02_5_Bonus_Learn_more_on_Lending_Club_dataset.ipynb\" target=\"_parent\"><img src=\"https://colab.research.google.com/assets/colab-badge.svg\" alt=\"Open In Colab\"/></a>"
      ]
    },
    {
      "cell_type": "markdown",
      "metadata": {
        "id": "JRj9eL29Hqs7",
        "colab_type": "text"
      },
      "source": [
        "## Bonus: Learn more about the Lending Club dataset\n",
        "\n",
        "Visit the following Jupyter notebooks in Kaggle to learn more about the Lending Club dataset and on how different Kagglers approach data analysis. \n",
        "\n",
        "- [Initial Loan Book Analysis](https://www.kaggle.com/erykwalczak/initial-loan-book-analysis)\n",
        "- [Python for Padawans](https://www.kaggle.com/evanmiller/python-for-padawans)\n",
        "- [Loan Book Initial Exploration](https://www.kaggle.com/solegalli/loan-book-initial-exploration/)"
      ]
    },
    {
      "cell_type": "code",
      "metadata": {
        "id": "Kvi2ByevHqtB",
        "colab_type": "code",
        "colab": {}
      },
      "source": [
        ""
      ],
      "execution_count": 0,
      "outputs": []
    }
  ]
}